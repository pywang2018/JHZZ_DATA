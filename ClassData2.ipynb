{
 "cells": [
  {
   "cell_type": "code",
   "execution_count": null,
   "metadata": {},
   "outputs": [],
   "source": [
    "import tushare as ts\n",
    "import pandas as pd\n",
    "import numpy as np\n",
    "import datetime\n",
    "ts.set_token('7e67081f05f2a9ea58ca60da55f6cb5f62fadd112bf0581d35c9def0')\n",
    "pro=ts.pro_api()"
   ]
  },
  {
   "cell_type": "code",
   "execution_count": null,
   "metadata": {},
   "outputs": [],
   "source": [
    "#获取所有一级分类\n",
    "classify2 = list(pro.index_classify(level='L2', src='SW')['index_code'])"
   ]
  },
  {
   "cell_type": "code",
   "execution_count": null,
   "metadata": {},
   "outputs": [],
   "source": [
    "#获取所有分类最新的对应股票（包括进入时间）\n",
    "#tushare该接口每分钟只能访问100次，获取数据分为两段（二级分类有104个）\n",
    "divide2 = pro.index_member(index_code=classify2[0])\n",
    "for i in classify2[1:50]:\n",
    "    df2 = pro.index_member(index_code=i)\n",
    "    divide2=divide2.append(df2)"
   ]
  },
  {
   "cell_type": "code",
   "execution_count": null,
   "metadata": {},
   "outputs": [],
   "source": [
    "for j in classify2[50:]:\n",
    "    df2 = pro.index_member(index_code=j)\n",
    "    divide2=divide2.append(df2)\n",
    "Stocklist=list(divide2['con_code'])"
   ]
  },
  {
   "cell_type": "code",
   "execution_count": null,
   "metadata": {},
   "outputs": [],
   "source": [
    "#获取所有分类历史的对应股票（包括进入时间和退出时间）\n",
    "#tushare该接口每分钟只能访问100次，获取数据分为两段（二级分类有104个）\n",
    "divide2_old = pro.index_member(index_code=classify2[0],is_new='N')\n",
    "for i in classify2[1:50]:\n",
    "    df2 = pro.index_member(index_code=i,is_new='N')\n",
    "    divide2_old=divide2_old.append(df2)\n"
   ]
  },
  {
   "cell_type": "code",
   "execution_count": null,
   "metadata": {},
   "outputs": [],
   "source": [
    "for j in classify2[50:]:\n",
    "    df2 = pro.index_member(index_code=j,is_new='N')\n",
    "    divide2_old=divide2_old.append(df2)"
   ]
  },
  {
   "cell_type": "code",
   "execution_count": null,
   "metadata": {},
   "outputs": [],
   "source": [
    "#最新与历史合并 剔除退出事件早于20090909的数据，将最新的分类数据的退出时间设为99999999\n",
    "allclass2=divide2.append(divide2_old)\n",
    "allclass2=allclass2.fillna(99999999)\n",
    "allclass2['out_date'] = allclass2['out_date'].apply(int)\n",
    "allclass2['in_date'] = allclass2['in_date'].apply(int)\n",
    "data2=allclass2[allclass2['out_date']>20090908]\n",
    "a=pro.trade_cal(start_date='20090909',end_date='20190909',is_open='1')\n",
    "a['cal_date'] = a['cal_date'].apply(int)\n",
    "date=list(a['cal_date'])"
   ]
  },
  {
   "cell_type": "code",
   "execution_count": null,
   "metadata": {},
   "outputs": [],
   "source": [
    "Dataneeded=pd.DataFrame(date,columns=['cal_date'])\n",
    "Dataneeded.set_index(['cal_date'], inplace=True)"
   ]
  },
  {
   "cell_type": "code",
   "execution_count": null,
   "metadata": {},
   "outputs": [],
   "source": [
    "#获取每只股票每天对应数据\n",
    "#将index_name改为index_code可获取分类对应代码\n",
    "for i in Stocklist:\n",
    "    stock=data2.loc[data2['con_code']==i]\n",
    "    stock=stock.sort_values('in_date',ascending=False)\n",
    "    cla_num=len(stock)\n",
    "    #print(cla_num)\n",
    "    indate=list(stock['in_date'])\n",
    "    outdate=list(stock['out_date'])\n",
    "    indexname=list(stock['index_name'])\n",
    "    if cla_num==0:\n",
    "        Dataneeded[i]=np.nan\n",
    "    if cla_num==1:\n",
    "        Dataneeded[i]=list(stock['index_name'])[0]\n",
    "    else:\n",
    "        Dataneeded.loc[indate[0]:,i]=indexname[0]\n",
    "        if indate[-1]<20090909:\n",
    "            Dataneeded.loc[20090909:outdate[-1],i]=indexname[-1]\n",
    "            for j in range(1,cla_num-1):\n",
    "                try:\n",
    "                    Dataneeded.loc[indate[j]:outdate[j],i]=indexname[j]\n",
    "                except:\n",
    "                    pass\n",
    "        else:\n",
    "            for j in range(1,cla_num):\n",
    "            \n",
    "                try:\n",
    "                    Dataneeded.loc[indate[j]:outdate[j],i]=indexname[j]\n",
    "                except:\n",
    "                    pass       \n"
   ]
  },
  {
   "cell_type": "code",
   "execution_count": null,
   "metadata": {},
   "outputs": [],
   "source": [
    "#导入excel\n",
    "Dataneeded.to_excel('Class1.xlsx')"
   ]
  }
 ],
 "metadata": {
  "kernelspec": {
   "display_name": "Python 3",
   "language": "python",
   "name": "python3"
  },
  "language_info": {
   "codemirror_mode": {
    "name": "ipython",
    "version": 3
   },
   "file_extension": ".py",
   "mimetype": "text/x-python",
   "name": "python",
   "nbconvert_exporter": "python",
   "pygments_lexer": "ipython3",
   "version": "3.6.5"
  }
 },
 "nbformat": 4,
 "nbformat_minor": 2
}
