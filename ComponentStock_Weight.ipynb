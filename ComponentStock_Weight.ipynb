{
 "cells": [
  {
   "cell_type": "code",
   "execution_count": null,
   "metadata": {},
   "outputs": [],
   "source": [
    "#该脚本须在joinquant网站上运行 jqfactor为joinquant自带的包\n",
    "#在joinquant网站策略研究——研究环境中打开\n",
    "from jqfactor import *\n",
    "import numpy as np\n",
    "import pandas as pd\n",
    "import time\n",
    "import tushare as ts\n",
    "ts.set_token('7e67081f05f2a9ea58ca60da55f6cb5f62fadd112bf0581d35c9def0')\n",
    "pro=ts.pro_api()\n"
   ]
  },
  {
   "cell_type": "code",
   "execution_count": null,
   "metadata": {},
   "outputs": [],
   "source": [
    "#选择时间区间\n",
    "#时间长度不要太长，否则会出现内存使用不足的情况，最好不超过500个交易日\n",
    "a=pro.trade_cal(start_date='20190309',end_date='20190909',is_open='1')\n",
    "a['cal_date'] = a['cal_date'].apply(int)\n",
    "date=list(a['cal_date'])          "
   ]
  },
  {
   "cell_type": "code",
   "execution_count": null,
   "metadata": {},
   "outputs": [],
   "source": [
    "#转换为datetime格式\n",
    "t_list=[]\n",
    "for i in date:\n",
    "    t_list.append(datetime.date(i//10000,(i%10000)//100,i%100))\n",
    "    "
   ]
  },
  {
   "cell_type": "code",
   "execution_count": null,
   "metadata": {},
   "outputs": [],
   "source": [
    "d=get_index_weights('000905.XSHG', date=t_list[0])\n",
    "d=d.loc[:,:'weight']\n",
    "d.columns=[t_list[0]]\n",
    "for i in t_list[1:]:\n",
    "    x=get_index_weights('000905.XSHG', date=i)      #000905.XSHG——ZZ500    000016.XSHG——SZ50    000300.XSHG——HS300\n",
    "    x=x.loc[:,:'weight']\n",
    "    x.columns=[i]\n",
    "    d=pd.merge(d,x,left_on='code',right_on='code',how='outer')\n",
    "\n",
    "    \n",
    "#新数据可以用pd.merge的方式加到原有数据上  \n",
    "#d=pd.merge(d,x,left_on='code',right_on='code',how='outer') d为原有数据，x为新数据，两边合并引索为‘code’，方式为‘outer’\n",
    "d.to_excel('ZZ500.xlsx')"
   ]
  }
 ],
 "metadata": {
  "kernelspec": {
   "display_name": "Python 3",
   "language": "python",
   "name": "python3"
  },
  "language_info": {
   "codemirror_mode": {
    "name": "ipython",
    "version": 3
   },
   "file_extension": ".py",
   "mimetype": "text/x-python",
   "name": "python",
   "nbconvert_exporter": "python",
   "pygments_lexer": "ipython3",
   "version": "3.6.7"
  },
  "toc": {
   "base_numbering": 1,
   "nav_menu": {},
   "number_sections": false,
   "sideBar": true,
   "skip_h1_title": false,
   "title_cell": "MarkDown菜单",
   "title_sidebar": "Contents",
   "toc_cell": false,
   "toc_position": {},
   "toc_section_display": true,
   "toc_window_display": false
  }
 },
 "nbformat": 4,
 "nbformat_minor": 2
}
